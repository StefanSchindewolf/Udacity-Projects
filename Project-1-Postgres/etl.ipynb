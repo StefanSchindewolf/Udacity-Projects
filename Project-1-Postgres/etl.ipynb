{
 "cells": [
  {
   "cell_type": "markdown",
   "metadata": {
    "editable": true
   },
   "source": [
    "# ETL Processes\n",
    "Use this notebook to develop the ETL process for each of your tables before completing the `etl.py` file to load the whole datasets."
   ]
  },
  {
   "cell_type": "code",
   "execution_count": 12,
   "metadata": {
    "editable": true
   },
   "outputs": [],
   "source": [
    "import os\n",
    "import glob\n",
    "import psycopg2\n",
    "import pandas as pd\n",
    "from sql_queries import *"
   ]
  },
  {
   "cell_type": "code",
   "execution_count": 13,
   "metadata": {
    "editable": true
   },
   "outputs": [],
   "source": [
    "# Setup the Database\n",
    "conn = psycopg2.connect(\"host=127.0.0.1 dbname=studentdb user=student password=student\")\n",
    "conn.set_session(autocommit=True)\n",
    "cur = conn.cursor()\n",
    "cur.execute(\"DROP DATABASE IF EXISTS sparkifydb\")\n",
    "cur.execute(\"CREATE DATABASE sparkifydb WITH ENCODING 'utf8' TEMPLATE template0\")\n",
    "conn.commit()\n",
    "conn.close()"
   ]
  },
  {
   "cell_type": "code",
   "execution_count": 14,
   "metadata": {
    "editable": true
   },
   "outputs": [],
   "source": [
    "# Get a connection and cursor\n",
    "conn = psycopg2.connect(\"host=127.0.0.1 dbname=sparkifydb user=student password=student\")\n",
    "cur = conn.cursor()\n",
    "# Then create the tables\n",
    "for query in create_table_queries:\n",
    "        cur.execute(query)\n",
    "        conn.commit()\n",
    "conn.commit()"
   ]
  },
  {
   "cell_type": "code",
   "execution_count": 15,
   "metadata": {
    "editable": true
   },
   "outputs": [],
   "source": [
    "# Traverse path given recursively and find json files\n",
    "def get_files(filepath):\n",
    "    all_files = []\n",
    "    for root, dirs, files in os.walk(filepath):\n",
    "        files = glob.glob(os.path.join(root,'*.json'))\n",
    "        for f in files :\n",
    "            all_files.append(os.path.abspath(f))\n",
    "    \n",
    "    return all_files"
   ]
  },
  {
   "cell_type": "markdown",
   "metadata": {
    "editable": true
   },
   "source": [
    "# Process `song_data`\n",
    "In this first part, you'll perform ETL on the first dataset, `song_data`, to create the `songs` and `artists` dimensional tables.\n",
    "\n",
    "Let's perform ETL on a single song file and load a single record into each table to start.\n",
    "- Use the `get_files` function provided above to get a list of all song JSON files in `data/song_data`\n",
    "- Select the first song in this list\n",
    "- Read the song file and view the data"
   ]
  },
  {
   "cell_type": "code",
   "execution_count": 16,
   "metadata": {
    "editable": true
   },
   "outputs": [
    {
     "name": "stdout",
     "output_type": "stream",
     "text": [
      "/home/workspace/data/song_data/A/B/C/TRABCRU128F423F449.json\n"
     ]
    }
   ],
   "source": [
    "# Well, lets get those files and their absolute path\n",
    "song_files = get_files('data/song_data')\n",
    "# Check that we have results by printing the first element, should not be empty\n",
    "print(song_files[0])"
   ]
  },
  {
   "cell_type": "code",
   "execution_count": 17,
   "metadata": {
    "editable": true
   },
   "outputs": [],
   "source": [
    "# For this notebook, we need only 1 file to analyze\n",
    "filepath = song_files[0]"
   ]
  },
  {
   "cell_type": "code",
   "execution_count": 18,
   "metadata": {
    "editable": true
   },
   "outputs": [
    {
     "data": {
      "text/html": [
       "<div>\n",
       "<style scoped>\n",
       "    .dataframe tbody tr th:only-of-type {\n",
       "        vertical-align: middle;\n",
       "    }\n",
       "\n",
       "    .dataframe tbody tr th {\n",
       "        vertical-align: top;\n",
       "    }\n",
       "\n",
       "    .dataframe thead th {\n",
       "        text-align: right;\n",
       "    }\n",
       "</style>\n",
       "<table border=\"1\" class=\"dataframe\">\n",
       "  <thead>\n",
       "    <tr style=\"text-align: right;\">\n",
       "      <th></th>\n",
       "      <th>artist_id</th>\n",
       "      <th>artist_latitude</th>\n",
       "      <th>artist_location</th>\n",
       "      <th>artist_longitude</th>\n",
       "      <th>artist_name</th>\n",
       "      <th>duration</th>\n",
       "      <th>num_songs</th>\n",
       "      <th>song_id</th>\n",
       "      <th>title</th>\n",
       "      <th>year</th>\n",
       "    </tr>\n",
       "  </thead>\n",
       "  <tbody>\n",
       "    <tr>\n",
       "      <th>0</th>\n",
       "      <td>AR8IEZO1187B99055E</td>\n",
       "      <td>NaN</td>\n",
       "      <td></td>\n",
       "      <td>NaN</td>\n",
       "      <td>Marc Shaiman</td>\n",
       "      <td>149.86404</td>\n",
       "      <td>1</td>\n",
       "      <td>SOINLJW12A8C13314C</td>\n",
       "      <td>City Slickers</td>\n",
       "      <td>2008</td>\n",
       "    </tr>\n",
       "  </tbody>\n",
       "</table>\n",
       "</div>"
      ],
      "text/plain": [
       "            artist_id  artist_latitude artist_location  artist_longitude  \\\n",
       "0  AR8IEZO1187B99055E              NaN                               NaN   \n",
       "\n",
       "    artist_name   duration  num_songs             song_id          title  year  \n",
       "0  Marc Shaiman  149.86404          1  SOINLJW12A8C13314C  City Slickers  2008  "
      ]
     },
     "execution_count": 18,
     "metadata": {},
     "output_type": "execute_result"
    }
   ],
   "source": [
    "# Open the file and load the content into a dataframe, print the item\n",
    "df = pd.read_json(filepath, lines=True)\n",
    "df.head()"
   ]
  },
  {
   "cell_type": "code",
   "execution_count": 19,
   "metadata": {
    "editable": true
   },
   "outputs": [
    {
     "data": {
      "text/html": [
       "<div>\n",
       "<style scoped>\n",
       "    .dataframe tbody tr th:only-of-type {\n",
       "        vertical-align: middle;\n",
       "    }\n",
       "\n",
       "    .dataframe tbody tr th {\n",
       "        vertical-align: top;\n",
       "    }\n",
       "\n",
       "    .dataframe thead th {\n",
       "        text-align: right;\n",
       "    }\n",
       "</style>\n",
       "<table border=\"1\" class=\"dataframe\">\n",
       "  <thead>\n",
       "    <tr style=\"text-align: right;\">\n",
       "      <th></th>\n",
       "      <th>artist_id</th>\n",
       "      <th>artist_latitude</th>\n",
       "      <th>artist_location</th>\n",
       "      <th>artist_longitude</th>\n",
       "      <th>artist_name</th>\n",
       "      <th>duration</th>\n",
       "      <th>num_songs</th>\n",
       "      <th>song_id</th>\n",
       "      <th>title</th>\n",
       "      <th>year</th>\n",
       "    </tr>\n",
       "  </thead>\n",
       "  <tbody>\n",
       "    <tr>\n",
       "      <th>0</th>\n",
       "      <td>AR8IEZO1187B99055E</td>\n",
       "      <td>NaN</td>\n",
       "      <td></td>\n",
       "      <td>NaN</td>\n",
       "      <td>Marc Shaiman</td>\n",
       "      <td>149.86404</td>\n",
       "      <td>1</td>\n",
       "      <td>SOINLJW12A8C13314C</td>\n",
       "      <td>City Slickers</td>\n",
       "      <td>2008</td>\n",
       "    </tr>\n",
       "    <tr>\n",
       "      <th>1</th>\n",
       "      <td>AR558FS1187FB45658</td>\n",
       "      <td>NaN</td>\n",
       "      <td></td>\n",
       "      <td>NaN</td>\n",
       "      <td>40 Grit</td>\n",
       "      <td>75.67628</td>\n",
       "      <td>1</td>\n",
       "      <td>SOGDBUF12A8C140FAA</td>\n",
       "      <td>Intro</td>\n",
       "      <td>2003</td>\n",
       "    </tr>\n",
       "    <tr>\n",
       "      <th>2</th>\n",
       "      <td>ARVBRGZ1187FB4675A</td>\n",
       "      <td>NaN</td>\n",
       "      <td></td>\n",
       "      <td>NaN</td>\n",
       "      <td>Gwen Stefani</td>\n",
       "      <td>290.55955</td>\n",
       "      <td>1</td>\n",
       "      <td>SORRZGD12A6310DBC3</td>\n",
       "      <td>Harajuku Girls</td>\n",
       "      <td>2004</td>\n",
       "    </tr>\n",
       "    <tr>\n",
       "      <th>3</th>\n",
       "      <td>ARNF6401187FB57032</td>\n",
       "      <td>40.79086</td>\n",
       "      <td>New York, NY [Manhattan]</td>\n",
       "      <td>-73.96644</td>\n",
       "      <td>Sophie B. Hawkins</td>\n",
       "      <td>305.16200</td>\n",
       "      <td>1</td>\n",
       "      <td>SONWXQJ12A8C134D94</td>\n",
       "      <td>The Ballad Of Sleeping Beauty</td>\n",
       "      <td>1994</td>\n",
       "    </tr>\n",
       "    <tr>\n",
       "      <th>4</th>\n",
       "      <td>AREVWGE1187B9B890A</td>\n",
       "      <td>-13.44200</td>\n",
       "      <td>Noci (BA)</td>\n",
       "      <td>-41.99520</td>\n",
       "      <td>Bitter End</td>\n",
       "      <td>282.43546</td>\n",
       "      <td>1</td>\n",
       "      <td>SOFCHDR12AB01866EF</td>\n",
       "      <td>Living Hell</td>\n",
       "      <td>0</td>\n",
       "    </tr>\n",
       "  </tbody>\n",
       "</table>\n",
       "</div>"
      ],
      "text/plain": [
       "            artist_id  artist_latitude           artist_location  \\\n",
       "0  AR8IEZO1187B99055E              NaN                             \n",
       "1  AR558FS1187FB45658              NaN                             \n",
       "2  ARVBRGZ1187FB4675A              NaN                             \n",
       "3  ARNF6401187FB57032         40.79086  New York, NY [Manhattan]   \n",
       "4  AREVWGE1187B9B890A        -13.44200                 Noci (BA)   \n",
       "\n",
       "   artist_longitude        artist_name   duration  num_songs  \\\n",
       "0               NaN       Marc Shaiman  149.86404          1   \n",
       "1               NaN            40 Grit   75.67628          1   \n",
       "2               NaN       Gwen Stefani  290.55955          1   \n",
       "3         -73.96644  Sophie B. Hawkins  305.16200          1   \n",
       "4         -41.99520         Bitter End  282.43546          1   \n",
       "\n",
       "              song_id                          title  year  \n",
       "0  SOINLJW12A8C13314C                  City Slickers  2008  \n",
       "1  SOGDBUF12A8C140FAA                          Intro  2003  \n",
       "2  SORRZGD12A6310DBC3                 Harajuku Girls  2004  \n",
       "3  SONWXQJ12A8C134D94  The Ballad Of Sleeping Beauty  1994  \n",
       "4  SOFCHDR12AB01866EF                    Living Hell     0  "
      ]
     },
     "execution_count": 19,
     "metadata": {},
     "output_type": "execute_result"
    }
   ],
   "source": [
    "# Now run again for all files\n",
    "df = pd.DataFrame()\n",
    "\n",
    "# Traverse the file list and add new lines into dataframe\n",
    "for path in song_files:\n",
    "    new_line = pd.read_json(path, lines=True)\n",
    "    df = df.append(new_line, ignore_index=True)\n",
    "   \n",
    "# Remove duplicates and print some data\n",
    "df = df.drop_duplicates()\n",
    "df.head(5)"
   ]
  },
  {
   "cell_type": "markdown",
   "metadata": {
    "editable": true
   },
   "source": [
    "## #1: `songs` Table\n",
    "#### Extract Data for Songs Table\n",
    "- Select columns for song ID, title, artist ID, year, and duration\n",
    "- Use `df.values` to select just the values from the dataframe\n",
    "- Index to select the first (only) record in the dataframe\n",
    "- Convert the array to a list and set it to `song_data`"
   ]
  },
  {
   "cell_type": "code",
   "execution_count": 20,
   "metadata": {
    "editable": true
   },
   "outputs": [
    {
     "name": "stdout",
     "output_type": "stream",
     "text": [
      "['SOINLJW12A8C13314C' 'City Slickers' 'AR8IEZO1187B99055E' 2008 149.86404]\n",
      "<class 'numpy.ndarray'>\n",
      "<class 'list'>\n"
     ]
    }
   ],
   "source": [
    "# Select columns from df\n",
    "songs_table_columns = df[[\"song_id\",\"title\",\"artist_id\",\"year\",\"duration\"]]\n",
    "# Select only the values from dataframe\n",
    "songs_table_values = songs_table_columns.values\n",
    "# Select the first record at Index 0\n",
    "print(songs_table_values[0])\n",
    "print(type(songs_table_values))\n",
    "# Convert array to list and print first item\n",
    "song_data = list(songs_table_columns.values)\n",
    "print(type(song_data))"
   ]
  },
  {
   "cell_type": "markdown",
   "metadata": {
    "editable": true
   },
   "source": [
    "#### Insert Record into Song Table\n",
    "Implement the `song_table_insert` query in `sql_queries.py` and run the cell below to insert a record for this song into the `songs` table. Remember to run `create_tables.py` before running the cell below to ensure you've created/resetted the `songs` table in the sparkify database."
   ]
  },
  {
   "cell_type": "code",
   "execution_count": 21,
   "metadata": {
    "editable": true
   },
   "outputs": [],
   "source": [
    "# Insert a single record only first\n",
    "cur.execute(song_table_insert, songs_table_values[0])\n",
    "conn.commit()"
   ]
  },
  {
   "cell_type": "code",
   "execution_count": 12,
   "metadata": {
    "editable": true
   },
   "outputs": [
    {
     "data": {
      "text/plain": [
       "('SOINLJW12A8C13314C', 'City Slickers', 'AR8IEZO1187B99055E', 2008, 149.86404)"
      ]
     },
     "execution_count": 12,
     "metadata": {},
     "output_type": "execute_result"
    }
   ],
   "source": [
    "# Now instead of just inserting a single value like above, put the whole df with song data into the table\n",
    "# See if it is there and clear the table again\n",
    "cur.execute(\"DROP TABLE IF EXISTS songs;\")\n",
    "cur.execute(\"CREATE TABLE IF NOT EXISTS songs (song_id VARCHAR PRIMARY KEY, title VARCHAR, artist_id VARCHAR, year INT, duration FLOAT);\")\n",
    "conn.commit()\n",
    "\n",
    "for song in songs_table_values:\n",
    "    cur.execute(song_table_insert, song)\n",
    "    conn.commit()\n",
    "\n",
    "# Check if data is in table\n",
    "cur.execute(\"SELECT * FROM songs;\")\n",
    "cur.fetchone()"
   ]
  },
  {
   "cell_type": "markdown",
   "metadata": {
    "editable": true
   },
   "source": [
    "Run `test.ipynb` to see if you've successfully added a record to this table."
   ]
  },
  {
   "cell_type": "markdown",
   "metadata": {
    "editable": true
   },
   "source": [
    "## #2: `artists` Table\n",
    "#### Extract Data for Artists Table\n",
    "- Select columns for artist ID, name, location, latitude, and longitude\n",
    "- Use `df.values` to select just the values from the dataframe\n",
    "- Index to select the first (only) record in the dataframe\n",
    "- Convert the array to a list and set it to `artist_data`"
   ]
  },
  {
   "cell_type": "code",
   "execution_count": 13,
   "metadata": {
    "editable": true
   },
   "outputs": [
    {
     "name": "stdout",
     "output_type": "stream",
     "text": [
      "['AR8IEZO1187B99055E', 'Marc Shaiman', '', nan, nan]\n",
      "<class 'list'>\n"
     ]
    }
   ],
   "source": [
    "artist_data = df[[\"artist_id\", \"artist_name\", \"artist_location\", \"artist_latitude\", \"artist_longitude\"]]\n",
    "artist_data = artist_data.drop_duplicates()\n",
    "artist_table_values = artist_data.values\n",
    "artist_table_index = artist_data.index\n",
    "artist_data = artist_table_values.tolist()\n",
    "print(artist_data[0])\n",
    "print(type(artist_data))"
   ]
  },
  {
   "cell_type": "markdown",
   "metadata": {
    "editable": true
   },
   "source": [
    "#### Insert Record into Artist Table\n",
    "Implement the `artist_table_insert` query in `sql_queries.py` and run the cell below to insert a record for this song's artist into the `artists` table. Remember to run `create_tables.py` before running the cell below to ensure you've created/resetted the `artists` table in the sparkify database."
   ]
  },
  {
   "cell_type": "code",
   "execution_count": 14,
   "metadata": {
    "editable": true
   },
   "outputs": [],
   "source": [
    "cur.execute(artist_table_insert, artist_data[0])\n",
    "conn.commit()"
   ]
  },
  {
   "cell_type": "code",
   "execution_count": 15,
   "metadata": {
    "editable": true
   },
   "outputs": [
    {
     "data": {
      "text/plain": [
       "('AR8IEZO1187B99055E', 'Marc Shaiman', '', nan, nan)"
      ]
     },
     "execution_count": 15,
     "metadata": {},
     "output_type": "execute_result"
    }
   ],
   "source": [
    "# Now instead of just inserting a single value like above, put the whole df with artist data into the table\n",
    "# See if it is there and clear the table again\n",
    "cur.execute(\"DROP TABLE IF EXISTS artists;\")\n",
    "cur.execute(\"CREATE TABLE IF NOT EXISTS artists (artist_id VARCHAR PRIMARY KEY, name VARCHAR, location VARCHAR, latitude FLOAT, longitude FLOAT);\")\n",
    "conn.commit()\n",
    "\n",
    "for artist in artist_data:\n",
    "    cur.execute(artist_table_insert, artist)\n",
    "    conn.commit()\n",
    "\n",
    "# Check if data is in table\n",
    "cur.execute(\"SELECT * FROM artists;\")\n",
    "cur.fetchone()"
   ]
  },
  {
   "cell_type": "markdown",
   "metadata": {
    "editable": true
   },
   "source": [
    "Run `test.ipynb` to see if you've successfully added a record to this table."
   ]
  },
  {
   "cell_type": "markdown",
   "metadata": {
    "editable": true
   },
   "source": [
    "# Process `log_data`\n",
    "In this part, you'll perform ETL on the second dataset, `log_data`, to create the `time` and `users` dimensional tables, as well as the `songplays` fact table.\n",
    "\n",
    "Let's perform ETL on a single log file and load a single record into each table.\n",
    "- Use the `get_files` function provided above to get a list of all log JSON files in `data/log_data`\n",
    "- Select the first log file in this list\n",
    "- Read the log file and view the data"
   ]
  },
  {
   "cell_type": "code",
   "execution_count": 16,
   "metadata": {
    "editable": true
   },
   "outputs": [
    {
     "name": "stdout",
     "output_type": "stream",
     "text": [
      "['/home/workspace/data/log_data/2018/11/2018-11-29-events.json', '/home/workspace/data/log_data/2018/11/2018-11-27-events.json', '/home/workspace/data/log_data/2018/11/2018-11-11-events.json', '/home/workspace/data/log_data/2018/11/2018-11-18-events.json', '/home/workspace/data/log_data/2018/11/2018-11-08-events.json', '/home/workspace/data/log_data/2018/11/2018-11-30-events.json', '/home/workspace/data/log_data/2018/11/2018-11-17-events.json', '/home/workspace/data/log_data/2018/11/2018-11-20-events.json', '/home/workspace/data/log_data/2018/11/2018-11-28-events.json', '/home/workspace/data/log_data/2018/11/2018-11-06-events.json', '/home/workspace/data/log_data/2018/11/2018-11-23-events.json', '/home/workspace/data/log_data/2018/11/2018-11-13-events.json', '/home/workspace/data/log_data/2018/11/2018-11-21-events.json', '/home/workspace/data/log_data/2018/11/2018-11-16-events.json', '/home/workspace/data/log_data/2018/11/2018-11-04-events.json', '/home/workspace/data/log_data/2018/11/2018-11-05-events.json', '/home/workspace/data/log_data/2018/11/2018-11-15-events.json', '/home/workspace/data/log_data/2018/11/2018-11-12-events.json', '/home/workspace/data/log_data/2018/11/2018-11-07-events.json', '/home/workspace/data/log_data/2018/11/2018-11-01-events.json', '/home/workspace/data/log_data/2018/11/2018-11-22-events.json', '/home/workspace/data/log_data/2018/11/2018-11-25-events.json', '/home/workspace/data/log_data/2018/11/2018-11-10-events.json', '/home/workspace/data/log_data/2018/11/2018-11-14-events.json', '/home/workspace/data/log_data/2018/11/2018-11-02-events.json', '/home/workspace/data/log_data/2018/11/2018-11-24-events.json', '/home/workspace/data/log_data/2018/11/2018-11-26-events.json', '/home/workspace/data/log_data/2018/11/2018-11-03-events.json', '/home/workspace/data/log_data/2018/11/2018-11-09-events.json', '/home/workspace/data/log_data/2018/11/2018-11-19-events.json', '/home/workspace/data/log_data/2018/11/.ipynb_checkpoints/2018-11-02-events-checkpoint.json']\n"
     ]
    }
   ],
   "source": [
    "log_files = get_files('data/log_data')\n",
    "print(log_files)"
   ]
  },
  {
   "cell_type": "code",
   "execution_count": 17,
   "metadata": {
    "editable": true
   },
   "outputs": [
    {
     "name": "stdout",
     "output_type": "stream",
     "text": [
      "/home/workspace/data/log_data/2018/11/2018-11-29-events.json\n"
     ]
    }
   ],
   "source": [
    "# Select first log file only\n",
    "filepath = log_files[0]\n",
    "print(filepath)"
   ]
  },
  {
   "cell_type": "code",
   "execution_count": 18,
   "metadata": {
    "editable": true
   },
   "outputs": [
    {
     "name": "stdout",
     "output_type": "stream",
     "text": [
      "6588\n"
     ]
    }
   ],
   "source": [
    "# Read and print content as stated above\n",
    "df = pd.read_json(filepath, lines=True)\n",
    "# Result Control\n",
    "df.head(1)\n",
    "print(df.size)"
   ]
  },
  {
   "cell_type": "code",
   "execution_count": 19,
   "metadata": {
    "editable": true
   },
   "outputs": [
    {
     "name": "stdout",
     "output_type": "stream",
     "text": [
      "145026\n"
     ]
    },
    {
     "data": {
      "text/html": [
       "<div>\n",
       "<style scoped>\n",
       "    .dataframe tbody tr th:only-of-type {\n",
       "        vertical-align: middle;\n",
       "    }\n",
       "\n",
       "    .dataframe tbody tr th {\n",
       "        vertical-align: top;\n",
       "    }\n",
       "\n",
       "    .dataframe thead th {\n",
       "        text-align: right;\n",
       "    }\n",
       "</style>\n",
       "<table border=\"1\" class=\"dataframe\">\n",
       "  <thead>\n",
       "    <tr style=\"text-align: right;\">\n",
       "      <th></th>\n",
       "      <th>artist</th>\n",
       "      <th>auth</th>\n",
       "      <th>firstName</th>\n",
       "      <th>gender</th>\n",
       "      <th>itemInSession</th>\n",
       "      <th>lastName</th>\n",
       "      <th>length</th>\n",
       "      <th>level</th>\n",
       "      <th>location</th>\n",
       "      <th>method</th>\n",
       "      <th>page</th>\n",
       "      <th>registration</th>\n",
       "      <th>sessionId</th>\n",
       "      <th>song</th>\n",
       "      <th>status</th>\n",
       "      <th>ts</th>\n",
       "      <th>userAgent</th>\n",
       "      <th>userId</th>\n",
       "    </tr>\n",
       "  </thead>\n",
       "  <tbody>\n",
       "    <tr>\n",
       "      <th>0</th>\n",
       "      <td>Sydney Youngblood</td>\n",
       "      <td>Logged In</td>\n",
       "      <td>Jacob</td>\n",
       "      <td>M</td>\n",
       "      <td>53</td>\n",
       "      <td>Klein</td>\n",
       "      <td>238.07955</td>\n",
       "      <td>paid</td>\n",
       "      <td>Tampa-St. Petersburg-Clearwater, FL</td>\n",
       "      <td>PUT</td>\n",
       "      <td>NextSong</td>\n",
       "      <td>1.540558e+12</td>\n",
       "      <td>954</td>\n",
       "      <td>Ain't No Sunshine</td>\n",
       "      <td>200</td>\n",
       "      <td>1543449657796</td>\n",
       "      <td>\"Mozilla/5.0 (Macintosh; Intel Mac OS X 10_9_4...</td>\n",
       "      <td>73</td>\n",
       "    </tr>\n",
       "    <tr>\n",
       "      <th>1</th>\n",
       "      <td>Gang Starr</td>\n",
       "      <td>Logged In</td>\n",
       "      <td>Layla</td>\n",
       "      <td>F</td>\n",
       "      <td>88</td>\n",
       "      <td>Griffin</td>\n",
       "      <td>151.92771</td>\n",
       "      <td>paid</td>\n",
       "      <td>Lake Havasu City-Kingman, AZ</td>\n",
       "      <td>PUT</td>\n",
       "      <td>NextSong</td>\n",
       "      <td>1.541057e+12</td>\n",
       "      <td>984</td>\n",
       "      <td>My Advice 2 You (Explicit)</td>\n",
       "      <td>200</td>\n",
       "      <td>1543449690796</td>\n",
       "      <td>\"Mozilla/5.0 (Windows NT 6.1; WOW64) AppleWebK...</td>\n",
       "      <td>24</td>\n",
       "    </tr>\n",
       "    <tr>\n",
       "      <th>2</th>\n",
       "      <td>3OH!3</td>\n",
       "      <td>Logged In</td>\n",
       "      <td>Layla</td>\n",
       "      <td>F</td>\n",
       "      <td>89</td>\n",
       "      <td>Griffin</td>\n",
       "      <td>192.52200</td>\n",
       "      <td>paid</td>\n",
       "      <td>Lake Havasu City-Kingman, AZ</td>\n",
       "      <td>PUT</td>\n",
       "      <td>NextSong</td>\n",
       "      <td>1.541057e+12</td>\n",
       "      <td>984</td>\n",
       "      <td>My First Kiss (Feat. Ke$ha) [Album Version]</td>\n",
       "      <td>200</td>\n",
       "      <td>1543449841796</td>\n",
       "      <td>\"Mozilla/5.0 (Windows NT 6.1; WOW64) AppleWebK...</td>\n",
       "      <td>24</td>\n",
       "    </tr>\n",
       "    <tr>\n",
       "      <th>3</th>\n",
       "      <td>RÃÂ¶yksopp</td>\n",
       "      <td>Logged In</td>\n",
       "      <td>Jacob</td>\n",
       "      <td>M</td>\n",
       "      <td>54</td>\n",
       "      <td>Klein</td>\n",
       "      <td>369.81506</td>\n",
       "      <td>paid</td>\n",
       "      <td>Tampa-St. Petersburg-Clearwater, FL</td>\n",
       "      <td>PUT</td>\n",
       "      <td>NextSong</td>\n",
       "      <td>1.540558e+12</td>\n",
       "      <td>954</td>\n",
       "      <td>The Girl and The Robot</td>\n",
       "      <td>200</td>\n",
       "      <td>1543449895796</td>\n",
       "      <td>\"Mozilla/5.0 (Macintosh; Intel Mac OS X 10_9_4...</td>\n",
       "      <td>73</td>\n",
       "    </tr>\n",
       "    <tr>\n",
       "      <th>4</th>\n",
       "      <td>Kajagoogoo</td>\n",
       "      <td>Logged In</td>\n",
       "      <td>Layla</td>\n",
       "      <td>F</td>\n",
       "      <td>90</td>\n",
       "      <td>Griffin</td>\n",
       "      <td>223.55546</td>\n",
       "      <td>paid</td>\n",
       "      <td>Lake Havasu City-Kingman, AZ</td>\n",
       "      <td>PUT</td>\n",
       "      <td>NextSong</td>\n",
       "      <td>1.541057e+12</td>\n",
       "      <td>984</td>\n",
       "      <td>Too Shy</td>\n",
       "      <td>200</td>\n",
       "      <td>1543450033796</td>\n",
       "      <td>\"Mozilla/5.0 (Windows NT 6.1; WOW64) AppleWebK...</td>\n",
       "      <td>24</td>\n",
       "    </tr>\n",
       "  </tbody>\n",
       "</table>\n",
       "</div>"
      ],
      "text/plain": [
       "              artist       auth firstName gender  itemInSession lastName  \\\n",
       "0  Sydney Youngblood  Logged In     Jacob      M             53    Klein   \n",
       "1         Gang Starr  Logged In     Layla      F             88  Griffin   \n",
       "2              3OH!3  Logged In     Layla      F             89  Griffin   \n",
       "3        RÃÂ¶yksopp  Logged In     Jacob      M             54    Klein   \n",
       "4         Kajagoogoo  Logged In     Layla      F             90  Griffin   \n",
       "\n",
       "      length level                             location method      page  \\\n",
       "0  238.07955  paid  Tampa-St. Petersburg-Clearwater, FL    PUT  NextSong   \n",
       "1  151.92771  paid         Lake Havasu City-Kingman, AZ    PUT  NextSong   \n",
       "2  192.52200  paid         Lake Havasu City-Kingman, AZ    PUT  NextSong   \n",
       "3  369.81506  paid  Tampa-St. Petersburg-Clearwater, FL    PUT  NextSong   \n",
       "4  223.55546  paid         Lake Havasu City-Kingman, AZ    PUT  NextSong   \n",
       "\n",
       "   registration  sessionId                                         song  \\\n",
       "0  1.540558e+12        954                            Ain't No Sunshine   \n",
       "1  1.541057e+12        984                   My Advice 2 You (Explicit)   \n",
       "2  1.541057e+12        984  My First Kiss (Feat. Ke$ha) [Album Version]   \n",
       "3  1.540558e+12        954                       The Girl and The Robot   \n",
       "4  1.541057e+12        984                                      Too Shy   \n",
       "\n",
       "   status             ts                                          userAgent  \\\n",
       "0     200  1543449657796  \"Mozilla/5.0 (Macintosh; Intel Mac OS X 10_9_4...   \n",
       "1     200  1543449690796  \"Mozilla/5.0 (Windows NT 6.1; WOW64) AppleWebK...   \n",
       "2     200  1543449841796  \"Mozilla/5.0 (Windows NT 6.1; WOW64) AppleWebK...   \n",
       "3     200  1543449895796  \"Mozilla/5.0 (Macintosh; Intel Mac OS X 10_9_4...   \n",
       "4     200  1543450033796  \"Mozilla/5.0 (Windows NT 6.1; WOW64) AppleWebK...   \n",
       "\n",
       "  userId  \n",
       "0     73  \n",
       "1     24  \n",
       "2     24  \n",
       "3     73  \n",
       "4     24  "
      ]
     },
     "execution_count": 19,
     "metadata": {},
     "output_type": "execute_result"
    }
   ],
   "source": [
    "# Now lets traverse all files and add to a new df\n",
    "for path in log_files:\n",
    "    new_line = pd.read_json(path, lines=True)\n",
    "    df = df.append(new_line, ignore_index=True)\n",
    "   \n",
    "# Remove duplicates and print some data\n",
    "df = df.drop_duplicates()\n",
    "# Result Control\n",
    "print(df.size)\n",
    "df.head(5)"
   ]
  },
  {
   "cell_type": "markdown",
   "metadata": {
    "editable": true
   },
   "source": [
    "## #3: `time` Table\n",
    "#### Extract Data for Time Table\n",
    "- Filter records by `NextSong` action\n",
    "- Convert the `ts` timestamp column to datetime\n",
    "  - Hint: the current timestamp is in milliseconds\n",
    "- Extract the timestamp, hour, day, week of year, month, year, and weekday from the `ts` column and set `time_data` to a list containing these values in order\n",
    "  - Hint: use pandas' [`dt` attribute](https://pandas.pydata.org/pandas-docs/stable/reference/api/pandas.Series.dt.html) to access easily datetimelike properties.\n",
    "- Specify labels for these columns and set to `column_labels`\n",
    "- Create a dataframe, `time_df,` containing the time data for this file by combining `column_labels` and `time_data` into a dictionary and converting this into a dataframe"
   ]
  },
  {
   "cell_type": "code",
   "execution_count": 23,
   "metadata": {
    "editable": true
   },
   "outputs": [
    {
     "data": {
      "text/html": [
       "<div>\n",
       "<style scoped>\n",
       "    .dataframe tbody tr th:only-of-type {\n",
       "        vertical-align: middle;\n",
       "    }\n",
       "\n",
       "    .dataframe tbody tr th {\n",
       "        vertical-align: top;\n",
       "    }\n",
       "\n",
       "    .dataframe thead th {\n",
       "        text-align: right;\n",
       "    }\n",
       "</style>\n",
       "<table border=\"1\" class=\"dataframe\">\n",
       "  <thead>\n",
       "    <tr style=\"text-align: right;\">\n",
       "      <th></th>\n",
       "      <th>timestamp</th>\n",
       "      <th>hour</th>\n",
       "      <th>day</th>\n",
       "      <th>week</th>\n",
       "      <th>month</th>\n",
       "      <th>year</th>\n",
       "      <th>weekday</th>\n",
       "    </tr>\n",
       "  </thead>\n",
       "  <tbody>\n",
       "    <tr>\n",
       "      <th>6179</th>\n",
       "      <td>2018-11-01 21:01:46.796</td>\n",
       "      <td>21</td>\n",
       "      <td>1</td>\n",
       "      <td>44</td>\n",
       "      <td>11</td>\n",
       "      <td>2018</td>\n",
       "      <td>3</td>\n",
       "    </tr>\n",
       "    <tr>\n",
       "      <th>6181</th>\n",
       "      <td>2018-11-01 21:05:52.796</td>\n",
       "      <td>21</td>\n",
       "      <td>1</td>\n",
       "      <td>44</td>\n",
       "      <td>11</td>\n",
       "      <td>2018</td>\n",
       "      <td>3</td>\n",
       "    </tr>\n",
       "    <tr>\n",
       "      <th>6182</th>\n",
       "      <td>2018-11-01 21:08:16.796</td>\n",
       "      <td>21</td>\n",
       "      <td>1</td>\n",
       "      <td>44</td>\n",
       "      <td>11</td>\n",
       "      <td>2018</td>\n",
       "      <td>3</td>\n",
       "    </tr>\n",
       "    <tr>\n",
       "      <th>6183</th>\n",
       "      <td>2018-11-01 21:11:13.796</td>\n",
       "      <td>21</td>\n",
       "      <td>1</td>\n",
       "      <td>44</td>\n",
       "      <td>11</td>\n",
       "      <td>2018</td>\n",
       "      <td>3</td>\n",
       "    </tr>\n",
       "    <tr>\n",
       "      <th>6184</th>\n",
       "      <td>2018-11-01 21:17:33.796</td>\n",
       "      <td>21</td>\n",
       "      <td>1</td>\n",
       "      <td>44</td>\n",
       "      <td>11</td>\n",
       "      <td>2018</td>\n",
       "      <td>3</td>\n",
       "    </tr>\n",
       "  </tbody>\n",
       "</table>\n",
       "</div>"
      ],
      "text/plain": [
       "                   timestamp  hour  day  week  month  year  weekday\n",
       "6179 2018-11-01 21:01:46.796    21    1    44     11  2018        3\n",
       "6181 2018-11-01 21:05:52.796    21    1    44     11  2018        3\n",
       "6182 2018-11-01 21:08:16.796    21    1    44     11  2018        3\n",
       "6183 2018-11-01 21:11:13.796    21    1    44     11  2018        3\n",
       "6184 2018-11-01 21:17:33.796    21    1    44     11  2018        3"
      ]
     },
     "execution_count": 23,
     "metadata": {},
     "output_type": "execute_result"
    }
   ],
   "source": [
    "# Filter Data for next song action and sort ascending\n",
    "times = df.query('page == \"NextSong\"')\n",
    "t = pd.to_datetime(times.ts, unit='ms').sort_values()\n",
    "\n",
    "# Extract columns with milliseconds and put into new series as Timestamps\n",
    "\n",
    "# Create other columns from timestamps\n",
    "#hours = list(timestamps.dt.hour.values)\n",
    "#days = list(timestamps.dt.day.values)\n",
    "#weeks = list(timestamps.dt.week.values)\n",
    "#months = list(timestamps.dt.month.values)\n",
    "#years = list(timestamps.dt.year.values)\n",
    "#weekdays = list(timestamps.dt.weekday.values)\n",
    "#timestamps = list(timestamps.dt.values)\n",
    "\n",
    "# List of column lables\n",
    "column_labels= (\"timestamp\", \"hour\", \"day\", \"week\", \"month\", \"year\", \"weekday\")\n",
    "\n",
    "time_data = (t.dt.values, t.dt.hour.values, t.dt.day.values, t.dt.week.values, t.dt.month.values, t.dt.year.values, t.dt.weekday.values)\n",
    "column_labels = (\"timestamp\", \"hour\", \"day\", \"week\", \"month\", \"year\", \"weekday\")\n",
    "dict_ts = dict(zip(column_labels, time_data))\n",
    "time_df = pd.DataFrame.from_dict(dict_ts)\n",
    "\n",
    "time_df = time_df.drop_duplicates()\n",
    "# Create dictionary\n",
    "#dict_ts = {'timestamp': timestamps, 'hour': hours, 'day': days, 'week': weeks, 'month': months, 'year': years, 'weekdays': weekdays}\n",
    "#Create dataframe from dictionary\n",
    "#time_df = pd.DataFrame.from_dict(dict_ts)\n",
    "#time_df = time_df.drop_duplicates()\n",
    "# Result Control\n",
    "time_df.head()"
   ]
  },
  {
   "cell_type": "markdown",
   "metadata": {
    "editable": true
   },
   "source": [
    "#### Insert Records into Time Table\n",
    "Implement the `time_table_insert` query in `sql_queries.py` and run the cell below to insert records for the timestamps in this log file into the `time` table. Remember to run `create_tables.py` before running the cell below to ensure you've created/resetted the `time` table in the sparkify database."
   ]
  },
  {
   "cell_type": "code",
   "execution_count": 20,
   "metadata": {
    "editable": true
   },
   "outputs": [],
   "source": [
    "# Clear the table\n",
    "cur.execute(\"DROP TABLE IF EXISTS time;\")\n",
    "cur.execute(\"CREATE TABLE IF NOT EXISTS time (start_time TIMESTAMP PRIMARY KEY, hour INT, day INT, week INT, month INT, year INT, weekday INT)\")\n",
    "conn.commit()\n",
    "# Insert the time data\n",
    "for i, row in time_df.iterrows():\n",
    "    cur.execute(time_table_insert, row)\n",
    "    conn.commit()"
   ]
  },
  {
   "cell_type": "markdown",
   "metadata": {
    "editable": true
   },
   "source": [
    "Run `test.ipynb` to see if you've successfully added records to this table."
   ]
  },
  {
   "cell_type": "markdown",
   "metadata": {
    "editable": true
   },
   "source": [
    "## #4: `users` Table\n",
    "#### Extract Data for Users Table\n",
    "- Select columns for user ID, first name, last name, gender and level and set to `user_df`"
   ]
  },
  {
   "cell_type": "code",
   "execution_count": 21,
   "metadata": {
    "editable": true
   },
   "outputs": [
    {
     "name": "stderr",
     "output_type": "stream",
     "text": [
      "/opt/conda/lib/python3.6/site-packages/ipykernel_launcher.py:4: SettingWithCopyWarning: \n",
      "A value is trying to be set on a copy of a slice from a DataFrame.\n",
      "Try using .loc[row_indexer,col_indexer] = value instead\n",
      "\n",
      "See the caveats in the documentation: http://pandas.pydata.org/pandas-docs/stable/indexing.html#indexing-view-versus-copy\n",
      "  after removing the cwd from sys.path.\n",
      "/opt/conda/lib/python3.6/site-packages/ipykernel_launcher.py:6: SettingWithCopyWarning: \n",
      "A value is trying to be set on a copy of a slice from a DataFrame\n",
      "\n",
      "See the caveats in the documentation: http://pandas.pydata.org/pandas-docs/stable/indexing.html#indexing-view-versus-copy\n",
      "  \n"
     ]
    },
    {
     "data": {
      "text/html": [
       "<div>\n",
       "<style scoped>\n",
       "    .dataframe tbody tr th:only-of-type {\n",
       "        vertical-align: middle;\n",
       "    }\n",
       "\n",
       "    .dataframe tbody tr th {\n",
       "        vertical-align: top;\n",
       "    }\n",
       "\n",
       "    .dataframe thead th {\n",
       "        text-align: right;\n",
       "    }\n",
       "</style>\n",
       "<table border=\"1\" class=\"dataframe\">\n",
       "  <thead>\n",
       "    <tr style=\"text-align: right;\">\n",
       "      <th></th>\n",
       "      <th>userId</th>\n",
       "      <th>firstName</th>\n",
       "      <th>lastName</th>\n",
       "      <th>gender</th>\n",
       "      <th>level</th>\n",
       "    </tr>\n",
       "  </thead>\n",
       "  <tbody>\n",
       "    <tr>\n",
       "      <th>1934</th>\n",
       "      <td>2.0</td>\n",
       "      <td>Jizelle</td>\n",
       "      <td>Benjamin</td>\n",
       "      <td>F</td>\n",
       "      <td>free</td>\n",
       "    </tr>\n",
       "    <tr>\n",
       "      <th>7070</th>\n",
       "      <td>3.0</td>\n",
       "      <td>Isaac</td>\n",
       "      <td>Valdez</td>\n",
       "      <td>M</td>\n",
       "      <td>free</td>\n",
       "    </tr>\n",
       "    <tr>\n",
       "      <th>42</th>\n",
       "      <td>4.0</td>\n",
       "      <td>Alivia</td>\n",
       "      <td>Terrell</td>\n",
       "      <td>F</td>\n",
       "      <td>free</td>\n",
       "    </tr>\n",
       "    <tr>\n",
       "      <th>767</th>\n",
       "      <td>5.0</td>\n",
       "      <td>Elijah</td>\n",
       "      <td>Davis</td>\n",
       "      <td>M</td>\n",
       "      <td>free</td>\n",
       "    </tr>\n",
       "    <tr>\n",
       "      <th>1724</th>\n",
       "      <td>6.0</td>\n",
       "      <td>Cecilia</td>\n",
       "      <td>Owens</td>\n",
       "      <td>F</td>\n",
       "      <td>free</td>\n",
       "    </tr>\n",
       "  </tbody>\n",
       "</table>\n",
       "</div>"
      ],
      "text/plain": [
       "      userId firstName  lastName gender level\n",
       "1934     2.0   Jizelle  Benjamin      F  free\n",
       "7070     3.0     Isaac    Valdez      M  free\n",
       "42       4.0    Alivia   Terrell      F  free\n",
       "767      5.0    Elijah     Davis      M  free\n",
       "1724     6.0   Cecilia     Owens      F  free"
      ]
     },
     "execution_count": 21,
     "metadata": {},
     "output_type": "execute_result"
    }
   ],
   "source": [
    "# Select the data, remove data without userId\n",
    "user_df =  df[[\"userId\", \"firstName\", \"lastName\", \"gender\", \"level\"]]\n",
    "# Convert user ids to numbers\n",
    "user_df['userId'] = pd.to_numeric(user_df['userId'], errors='ignore', downcast='integer')\n",
    "# Remove NaNs, duplicates and sort data\n",
    "user_df.dropna(axis=0, inplace=True)\n",
    "user_df = user_df.drop_duplicates()\n",
    "user_df = user_df.sort_values(by='userId')\n",
    "user_df.head()"
   ]
  },
  {
   "cell_type": "markdown",
   "metadata": {
    "editable": true
   },
   "source": [
    "#### Insert Records into Users Table\n",
    "Implement the `user_table_insert` query in `sql_queries.py` and run the cell below to insert records for the users in this log file into the `users` table. Remember to run `create_tables.py` before running the cell below to ensure you've created/resetted the `users` table in the sparkify database."
   ]
  },
  {
   "cell_type": "code",
   "execution_count": 22,
   "metadata": {
    "editable": true
   },
   "outputs": [],
   "source": [
    "conn.commit()\n",
    "cur.execute(\"DROP TABLE users;\")\n",
    "cur.execute(\"CREATE TABLE IF NOT EXISTS users (user_id INT, first_name VARCHAR, last_name VARCHAR, gender VARCHAR, level VARCHAR);\")\n",
    "conn.commit()\n",
    "for i, row in user_df.iterrows():\n",
    "    cur.execute(user_table_insert, row)\n",
    "    conn.commit()"
   ]
  },
  {
   "cell_type": "markdown",
   "metadata": {
    "editable": true
   },
   "source": [
    "Run `test.ipynb` to see if you've successfully added records to this table."
   ]
  },
  {
   "cell_type": "markdown",
   "metadata": {
    "editable": true
   },
   "source": [
    "## #5: `songplays` Table\n",
    "#### Extract Data and Songplays Table\n",
    "This one is a little more complicated since information from the songs table, artists table, and original log file are all needed for the `songplays` table. Since the log file does not specify an ID for either the song or the artist, you'll need to get the song ID and artist ID by querying the songs and artists tables to find matches based on song title, artist name, and song duration time.\n",
    "- Implement the `song_select` query in `sql_queries.py` to find the song ID and artist ID based on the title, artist name, and duration of a song.\n",
    "- Select the timestamp, user ID, level, song ID, artist ID, session ID, location, and user agent and set to `songplay_data`\n",
    "\n",
    "#### Insert Records into Songplays Table\n",
    "- Implement the `songplay_table_insert` query and run the cell below to insert records for the songplay actions in this log file into the `songplays` table. Remember to run `create_tables.py` before running the cell below to ensure you've created/resetted the `songplays` table in the sparkify database."
   ]
  },
  {
   "cell_type": "code",
   "execution_count": 23,
   "metadata": {
    "editable": true
   },
   "outputs": [
    {
     "data": {
      "text/html": [
       "<div>\n",
       "<style scoped>\n",
       "    .dataframe tbody tr th:only-of-type {\n",
       "        vertical-align: middle;\n",
       "    }\n",
       "\n",
       "    .dataframe tbody tr th {\n",
       "        vertical-align: top;\n",
       "    }\n",
       "\n",
       "    .dataframe thead th {\n",
       "        text-align: right;\n",
       "    }\n",
       "</style>\n",
       "<table border=\"1\" class=\"dataframe\">\n",
       "  <thead>\n",
       "    <tr style=\"text-align: right;\">\n",
       "      <th></th>\n",
       "      <th>ts</th>\n",
       "      <th>userId</th>\n",
       "      <th>level</th>\n",
       "      <th>songid</th>\n",
       "      <th>songs_artistid</th>\n",
       "      <th>sessionId</th>\n",
       "      <th>location</th>\n",
       "      <th>userAgent</th>\n",
       "    </tr>\n",
       "  </thead>\n",
       "  <tbody>\n",
       "    <tr>\n",
       "      <th>1006</th>\n",
       "      <td>1543358159796</td>\n",
       "      <td>80</td>\n",
       "      <td>paid</td>\n",
       "      <td>SOGDBUF12A8C140FAA</td>\n",
       "      <td>AR558FS1187FB45658</td>\n",
       "      <td>992</td>\n",
       "      <td>Portland-South Portland, ME</td>\n",
       "      <td>\"Mozilla/5.0 (Macintosh; Intel Mac OS X 10_9_4...</td>\n",
       "    </tr>\n",
       "    <tr>\n",
       "      <th>4216</th>\n",
       "      <td>1542837407796</td>\n",
       "      <td>15</td>\n",
       "      <td>paid</td>\n",
       "      <td>SOZCTXZ12AB0182364</td>\n",
       "      <td>AR5KOSW1187FB35FF4</td>\n",
       "      <td>818</td>\n",
       "      <td>Chicago-Naperville-Elgin, IL-IN-WI</td>\n",
       "      <td>\"Mozilla/5.0 (X11; Linux x86_64) AppleWebKit/5...</td>\n",
       "    </tr>\n",
       "    <tr>\n",
       "      <th>6504</th>\n",
       "      <td>1542171963796</td>\n",
       "      <td>10</td>\n",
       "      <td>free</td>\n",
       "      <td>SOGDBUF12A8C140FAA</td>\n",
       "      <td>AR558FS1187FB45658</td>\n",
       "      <td>484</td>\n",
       "      <td>Washington-Arlington-Alexandria, DC-VA-MD-WV</td>\n",
       "      <td>\"Mozilla/5.0 (Macintosh; Intel Mac OS X 10_9_4...</td>\n",
       "    </tr>\n",
       "    <tr>\n",
       "      <th>8237</th>\n",
       "      <td>1542618860796</td>\n",
       "      <td>24</td>\n",
       "      <td>paid</td>\n",
       "      <td>SOGDBUF12A8C140FAA</td>\n",
       "      <td>AR558FS1187FB45658</td>\n",
       "      <td>672</td>\n",
       "      <td>Lake Havasu City-Kingman, AZ</td>\n",
       "      <td>\"Mozilla/5.0 (Windows NT 6.1; WOW64) AppleWebK...</td>\n",
       "    </tr>\n",
       "  </tbody>\n",
       "</table>\n",
       "</div>"
      ],
      "text/plain": [
       "                 ts userId level              songid      songs_artistid  \\\n",
       "1006  1543358159796     80  paid  SOGDBUF12A8C140FAA  AR558FS1187FB45658   \n",
       "4216  1542837407796     15  paid  SOZCTXZ12AB0182364  AR5KOSW1187FB35FF4   \n",
       "6504  1542171963796     10  free  SOGDBUF12A8C140FAA  AR558FS1187FB45658   \n",
       "8237  1542618860796     24  paid  SOGDBUF12A8C140FAA  AR558FS1187FB45658   \n",
       "\n",
       "      sessionId                                      location  \\\n",
       "1006        992                   Portland-South Portland, ME   \n",
       "4216        818            Chicago-Naperville-Elgin, IL-IN-WI   \n",
       "6504        484  Washington-Arlington-Alexandria, DC-VA-MD-WV   \n",
       "8237        672                  Lake Havasu City-Kingman, AZ   \n",
       "\n",
       "                                              userAgent  \n",
       "1006  \"Mozilla/5.0 (Macintosh; Intel Mac OS X 10_9_4...  \n",
       "4216  \"Mozilla/5.0 (X11; Linux x86_64) AppleWebKit/5...  \n",
       "6504  \"Mozilla/5.0 (Macintosh; Intel Mac OS X 10_9_4...  \n",
       "8237  \"Mozilla/5.0 (Windows NT 6.1; WOW64) AppleWebK...  "
      ]
     },
     "execution_count": 23,
     "metadata": {},
     "output_type": "execute_result"
    }
   ],
   "source": [
    "# We could try and get the song selected via SQL and JOIN like here:\n",
    "song_select = \"SELECT s.song_id, a.artist_id FROM songs s JOIN artists a ON s.artist_id = a.artist_id WHERE s.title LIKE %s AND a.name LIKE %s AND s.duration = %s;\"\n",
    "songplay_table_insert = \"INSERT INTO songplays (start_time, user_id, level, song_id, artist_id, session_id, location, user_agent) VALUES (%s, %s, %s, %s, %s, %s, %s, %s)\"\n",
    "\n",
    "for index, row in df.iterrows():\n",
    "    selectors = (row.song, row.artist, row.length)\n",
    "    cur.execute(song_select, selectors)\n",
    "    results = cur.fetchone()\n",
    "\n",
    "    # If it yields any results, complete the dataset and insert it into the table\n",
    "    if results:\n",
    "        songid, artistid = results\n",
    "        # convert the timestamps to datetime\n",
    "        row.ts = pd.to_datetime(row.ts, unit='ms')\n",
    "        songplay_data = (row.ts, row.userId, row.level, songid, artistid, row.sessionId, row.location, row.userAgent)\n",
    "        cur.execute(songplay_table_insert, songplay_data)\n",
    "        conn.commit()\n",
    "    else:\n",
    "        songid, artistid = None, None\n",
    "        \n",
    "# Since I kept getting a string conversion exception, probably because of the single quote '' characters in the song titles\n",
    "# I just approached it in Pandas also\n",
    "# Get the songs table\n",
    "song_table = \"SELECT s.song_id, s.artist_id, s.title, s.duration FROM songs s;\"\n",
    "cur.execute(song_table)\n",
    "songs_list = pd.DataFrame(cur.fetchall(), columns=('songid', 'songs_artistid', 'title', 'duration'))\n",
    "# Get the artists table\n",
    "artist_table = \"SELECT a.name, a.artist_id FROM artists a;\"\n",
    "cur.execute(artist_table)\n",
    "art_list = pd.DataFrame(cur.fetchall(), columns=['name', 'artists_artistid'])\n",
    "# Join them on artist id\n",
    "art_list = songs_list.join(art_list.set_index('artists_artistid'), on='songs_artistid')\n",
    "# Now join this table into the songplay data in dataframe df\n",
    "songplay_data = df.join(art_list.set_index('title'), on='song')\n",
    "songplay_data = songplay_data[['ts', 'userId', 'level', 'songid', 'songs_artistid', 'sessionId', 'location', 'userAgent']]\n",
    "# And remove the NaN lines to see the matched results\n",
    "not_empty = songplay_data.songid.notna()\n",
    "songplay_data[not_empty].head()\n",
    "# --> But we are not writing this to the table, just remember the 2 wasted days\n",
    "   "
   ]
  },
  {
   "cell_type": "markdown",
   "metadata": {
    "editable": true
   },
   "source": [
    "Run `test.ipynb` to see if you've successfully added records to this table."
   ]
  },
  {
   "cell_type": "markdown",
   "metadata": {
    "editable": true
   },
   "source": [
    "# Close Connection to Sparkify Database"
   ]
  },
  {
   "cell_type": "code",
   "execution_count": 72,
   "metadata": {
    "editable": true
   },
   "outputs": [],
   "source": [
    "conn.close()"
   ]
  },
  {
   "cell_type": "markdown",
   "metadata": {
    "editable": true
   },
   "source": [
    "# Implement `etl.py`\n",
    "Use what you've completed in this notebook to implement `etl.py`."
   ]
  },
  {
   "cell_type": "code",
   "execution_count": null,
   "metadata": {
    "editable": true
   },
   "outputs": [],
   "source": []
  }
 ],
 "metadata": {
  "kernelspec": {
   "display_name": "Python 3",
   "language": "python",
   "name": "python3"
  },
  "language_info": {
   "codemirror_mode": {
    "name": "ipython",
    "version": 3
   },
   "file_extension": ".py",
   "mimetype": "text/x-python",
   "name": "python",
   "nbconvert_exporter": "python",
   "pygments_lexer": "ipython3",
   "version": "3.6.3"
  }
 },
 "nbformat": 4,
 "nbformat_minor": 4
}
